{
 "cells": [
  {
   "cell_type": "code",
   "execution_count": null,
   "id": "5d4ef8e8",
   "metadata": {},
   "outputs": [],
   "source": [
    "#importing pandas and numpy library \n",
    "import pandas as pd\n",
    "import numpy as np"
   ]
  },
  {
   "cell_type": "code",
   "execution_count": null,
   "id": "1f8498e5",
   "metadata": {},
   "outputs": [],
   "source": [
    "# Read the cancer data from a CSV file\n",
    "cancer= pd.read_csv('cancer.csv')"
   ]
  },
  {
   "cell_type": "code",
   "execution_count": null,
   "id": "a8683d30",
   "metadata": {},
   "outputs": [],
   "source": [
    "cancer"
   ]
  },
  {
   "cell_type": "code",
   "execution_count": null,
   "id": "2569fd7c",
   "metadata": {},
   "outputs": [],
   "source": [
    "#viewing the columns name in cancer dataframe\n",
    "cancer.columns"
   ]
  },
  {
   "cell_type": "code",
   "execution_count": null,
   "id": "4dcb4257",
   "metadata": {},
   "outputs": [],
   "source": [
    "#to see the number of records according to locations\n",
    "cancer['LocationDesc'].value_counts() \n"
   ]
  },
  {
   "cell_type": "code",
   "execution_count": null,
   "id": "7e99299f",
   "metadata": {},
   "outputs": [],
   "source": [
    "cancer"
   ]
  },
  {
   "cell_type": "code",
   "execution_count": null,
   "id": "01541815",
   "metadata": {
    "scrolled": false
   },
   "outputs": [],
   "source": [
    "#find out all the themes of analysis an their number of records\n",
    "cancer['Question'].value_counts() \n"
   ]
  },
  {
   "cell_type": "code",
   "execution_count": null,
   "id": "881564f0",
   "metadata": {},
   "outputs": [],
   "source": [
    "#see if response column has all the na values\n",
    "cancer['Response'].value_counts() \n"
   ]
  },
  {
   "cell_type": "code",
   "execution_count": null,
   "id": "05ba5b2e",
   "metadata": {},
   "outputs": [],
   "source": [
    "#dropping the whole column because it had all na values\n",
    "cancer.drop(columns=['Response'], inplace= True)"
   ]
  },
  {
   "cell_type": "code",
   "execution_count": null,
   "id": "b602bc01",
   "metadata": {},
   "outputs": [],
   "source": [
    "cancer"
   ]
  },
  {
   "cell_type": "code",
   "execution_count": null,
   "id": "5f57420f",
   "metadata": {},
   "outputs": [],
   "source": [
    "#to display the records for the prostate cancer mortality rate only for the further analysis\n",
    "desired_records = cancer[cancer[\"Question\"] == 'Cancer of the prostate, mortality']\n"
   ]
  },
  {
   "cell_type": "code",
   "execution_count": null,
   "id": "52ffaed7",
   "metadata": {},
   "outputs": [],
   "source": [
    "desired_records"
   ]
  },
  {
   "cell_type": "code",
   "execution_count": null,
   "id": "fa36f32e",
   "metadata": {},
   "outputs": [],
   "source": [
    "# view the column names for our desired reocrds\n",
    "desired_records.columns"
   ]
  },
  {
   "cell_type": "code",
   "execution_count": null,
   "id": "6d2ed521",
   "metadata": {},
   "outputs": [],
   "source": [
    "# drop all columns with na values according to above results\n",
    "desired_records.drop(columns=['StratificationCategoryID2' ,'StratificationID3', 'StratificationID2' ,'StratificationCategoryID3', 'StratificationCategory2','Stratification2', 'StratificationCategory3','Stratification3','ResponseID'], inplace= True)"
   ]
  },
  {
   "cell_type": "code",
   "execution_count": null,
   "id": "c56ff2ad",
   "metadata": {},
   "outputs": [],
   "source": [
    "#display remaining column names after dropping the nan columns\n",
    "desired_records.columns"
   ]
  },
  {
   "cell_type": "code",
   "execution_count": null,
   "id": "c3532da6",
   "metadata": {},
   "outputs": [],
   "source": [
    "# after dropping na columns\n",
    "desired_records"
   ]
  },
  {
   "cell_type": "code",
   "execution_count": null,
   "id": "dbc9e856",
   "metadata": {},
   "outputs": [],
   "source": [
    "#counting the NaN records to see if they affect the data\n",
    "nan_counts = desired_records.isna().sum()\n"
   ]
  },
  {
   "cell_type": "code",
   "execution_count": null,
   "id": "8412d627",
   "metadata": {},
   "outputs": [],
   "source": [
    "nan_counts"
   ]
  },
  {
   "cell_type": "code",
   "execution_count": null,
   "id": "ecbde048",
   "metadata": {},
   "outputs": [],
   "source": [
    "#  narrow  down records according to gender\n",
    "gender_data = desired_records[desired_records[\"StratificationCategoryID1\"] == 'GENDER']\n"
   ]
  },
  {
   "cell_type": "code",
   "execution_count": null,
   "id": "c1c3298a",
   "metadata": {},
   "outputs": [],
   "source": [
    "gender_data"
   ]
  },
  {
   "cell_type": "code",
   "execution_count": null,
   "id": "c9fb086f",
   "metadata": {},
   "outputs": [],
   "source": [
    "gender_data"
   ]
  },
  {
   "cell_type": "markdown",
   "id": "2cdb0e07",
   "metadata": {},
   "source": [
    "We will be using 'Average annual Crude rate' data for our analysis because they are calculated per 100,000 people and more reliable than other methods"
   ]
  },
  {
   "cell_type": "code",
   "execution_count": null,
   "id": "77db2734",
   "metadata": {},
   "outputs": [],
   "source": [
    "# narrow down records to a specific measuring type. here I selecter crude rate as the preferred data method because of it simplicity\n",
    "crude_data= gender_data[gender_data[\"DataValueType\"] == 'Average Annual Crude Rate']\n"
   ]
  },
  {
   "cell_type": "code",
   "execution_count": null,
   "id": "0e4518c3",
   "metadata": {
    "scrolled": true
   },
   "outputs": [],
   "source": [
    "\n",
    "#renaming the columns for simplicity\n",
    "crude_data.rename(columns={'YearEnd': 'Year', 'LocationDesc': 'Location', 'Question': 'Theme', 'DataValueType': 'Method', 'DataValue': 'Value', 'Stratification1' : 'Gender'}, inplace=True)\n"
   ]
  },
  {
   "cell_type": "code",
   "execution_count": null,
   "id": "47f09fc6",
   "metadata": {
    "scrolled": false
   },
   "outputs": [],
   "source": [
    "crude_data"
   ]
  },
  {
   "cell_type": "code",
   "execution_count": null,
   "id": "31a920b0",
   "metadata": {},
   "outputs": [],
   "source": [
    "# eliminate unnecessary columns and keeping only those we are using for our analysis\n",
    "final_data = crude_data[[\"Year\", \"Location\", \"Theme\", \"Method\", \"Value\", \"Gender\"]].copy()"
   ]
  },
  {
   "cell_type": "code",
   "execution_count": null,
   "id": "9e57e7a8",
   "metadata": {
    "scrolled": false
   },
   "outputs": [],
   "source": [
    "final_data"
   ]
  },
  {
   "cell_type": "code",
   "execution_count": null,
   "id": "39af7494",
   "metadata": {
    "scrolled": false
   },
   "outputs": [],
   "source": [
    "#only keeping the records for males since prostate cancer occurs only on males\n",
    "final_data = final_data[final_data['Gender']=='Male']\n",
    "final_data\n"
   ]
  },
  {
   "cell_type": "markdown",
   "id": "71390cfb",
   "metadata": {},
   "source": [
    "so now we have list of the territories of USA and also the average of the whole United States of America according to the year from 2012 to 2019."
   ]
  },
  {
   "cell_type": "code",
   "execution_count": null,
   "id": "8786d13c",
   "metadata": {},
   "outputs": [],
   "source": [
    "#lets find out the mean mortality rate for all states and then we'll take top 5 most affected states\n",
    "\n",
    "\n",
    "# Calculate the mean of mortality rates for each state\n",
    "average_mortality_rates = final_data.groupby('Location')['Value'].mean()\n",
    "\n",
    "# Sort states by average mortality rate in descending order\n",
    "sorted_states = average_mortality_rates.sort_values(ascending=False)\n",
    "\n",
    "sorted_states\n"
   ]
  },
  {
   "cell_type": "markdown",
   "id": "fd74ada8",
   "metadata": {},
   "source": [
    "Now, we have the list of territories with highest mortality rate to lowest. so we'll be selecting only the top 5 territories for our analysis i.e Montana, DIstrict of columbia, maine, Mississipipi and Florida"
   ]
  },
  {
   "cell_type": "markdown",
   "id": "c3e33659",
   "metadata": {},
   "source": [
    "Now, lets create a new data frame to store these 5 states' data for their trend visualisation. Furthermore we can plot a bar chart for the average mortality rate with the above data now too."
   ]
  },
  {
   "cell_type": "code",
   "execution_count": null,
   "id": "c63acf84",
   "metadata": {},
   "outputs": [],
   "source": [
    "# creating dataframe with only top 5 locations\n",
    "Territories = ['Montana', 'District of Columbia', 'Maine', 'Mississippi', 'Florida'] #storing 5 states in a list\n",
    "filtered_records = final_data[final_data[\"Location\"].isin(Territories)] #filtering the dataframe with the list\n"
   ]
  },
  {
   "cell_type": "code",
   "execution_count": null,
   "id": "a4caf849",
   "metadata": {},
   "outputs": [],
   "source": [
    "filtered_records"
   ]
  },
  {
   "cell_type": "code",
   "execution_count": null,
   "id": "636da627",
   "metadata": {},
   "outputs": [],
   "source": [
    "import matplotlib.pyplot as plt\n",
    "#creating a pivot table with year, location an dcorresponding value\n",
    "df_pivot = filtered_records.pivot(index='Year', columns='Location', values='Value')\n",
    "\n",
    "ax = df_pivot.plot(kind='bar') #plotting the bar graph\n",
    "#set label for x axis as Year\n",
    "ax.set_xlabel('Year')\n",
    "#set label for y axis as average crude rate\n",
    "ax.set_ylabel('Average Crude Rates')\n",
    "#display the bar chart\n",
    "plt.show()\n"
   ]
  },
  {
   "cell_type": "code",
   "execution_count": null,
   "id": "1f52cdc0",
   "metadata": {},
   "outputs": [],
   "source": [
    "final_data"
   ]
  },
  {
   "cell_type": "code",
   "execution_count": null,
   "id": "b9c49cc2",
   "metadata": {
    "scrolled": false
   },
   "outputs": [],
   "source": [
    "#creating a data frame for the highest mortality state i.e.montana\n",
    "df_montana = final_data[final_data['Location']=='Montana']\n",
    "#creating a dataframe with just years and average value combined\n",
    "df_montana_yearly = df_montana.groupby('Year')['Value'].sum()\n",
    "#reset index from 0\n",
    "df_montana_grouped = df_montana_yearly.reset_index()\n",
    "df_montana_grouped"
   ]
  },
  {
   "cell_type": "code",
   "execution_count": null,
   "id": "2f8c9377",
   "metadata": {},
   "outputs": [],
   "source": [
    "#creating a line graph with red clor and dot marking\n",
    "plt.plot(df_montana_grouped['Year'], df_montana_grouped['Value'], marker = 'o', color = 'red')\n",
    "\n",
    "# Adding labels and title\n",
    "plt.xlabel('Year')\n",
    "plt.ylabel('Mortality Rate')\n",
    "plt.title('Prostate Cancer Mortality Rate in Montana Over Years(male)')\n",
    "\n",
    "# Display the plot\n",
    "plt.show()"
   ]
  },
  {
   "cell_type": "code",
   "execution_count": null,
   "id": "01882a62",
   "metadata": {},
   "outputs": [],
   "source": [
    "#creating a data frame for the Mississippi\n",
    "df_mississippi = final_data[final_data['Location']=='Mississippi']\n",
    "#creating a dataframe with just years and average value combined\n",
    "df_mississippi_yearly = df_mississippi.groupby('Year')['Value'].sum()\n",
    "df_mississippi_grouped = df_mississippi_yearly.reset_index()\n",
    "df_mississippi_grouped"
   ]
  },
  {
   "cell_type": "code",
   "execution_count": null,
   "id": "3a688903",
   "metadata": {},
   "outputs": [],
   "source": [
    "#creating a line graph with green color and dot marking\n",
    "plt.plot(df_mississippi_grouped['Year'], df_mississippi_grouped['Value'], marker = 'o', color = 'green')\n",
    "\n",
    "# Adding labels and title\n",
    "plt.xlabel('Year')\n",
    "plt.ylabel('Mortality Rate')\n",
    "plt.title('Prostate Cancer Mortality Rate in Mississippi Over Years(male)')\n",
    "\n",
    "# Display the plot\n",
    "plt.show()"
   ]
  },
  {
   "cell_type": "code",
   "execution_count": null,
   "id": "4aacc9f1",
   "metadata": {},
   "outputs": [],
   "source": [
    "#creating a data frame for Florida\n",
    "df_florida = final_data[final_data['Location']=='Florida']\n",
    "#creating a dataframe with just years and average value combined\n",
    "df_florida_yearly = df_florida.groupby('Year')['Value'].sum()\n",
    "df_florida_grouped = df_florida_yearly.reset_index()\n",
    "df_florida_grouped"
   ]
  },
  {
   "cell_type": "code",
   "execution_count": null,
   "id": "671dac26",
   "metadata": {},
   "outputs": [],
   "source": [
    "#creating a line graph with blue clor and dot marking\n",
    "plt.plot(df_florida_grouped['Year'], df_florida_grouped['Value'], marker = 'o', color = 'blue')\n",
    "\n",
    "# Adding labels and title\n",
    "plt.xlabel('Year')\n",
    "plt.ylabel('Mortality Rate')\n",
    "plt.title('Prostate Cancer Mortality Rate in Florida Over Years(male)')\n",
    "\n",
    "# Display the plot\n",
    "plt.show()"
   ]
  },
  {
   "cell_type": "code",
   "execution_count": null,
   "id": "cc967759",
   "metadata": {},
   "outputs": [],
   "source": [
    "#creating a data frame for District of columbia\n",
    "df_dc = final_data[final_data['Location']=='District of Columbia']\n",
    "#creating a dataframe with just years and average value combined\n",
    "df_dc_yearly = df_dc.groupby('Year')['Value'].sum()\n",
    "df_dc_grouped = df_dc_yearly.reset_index()\n",
    "df_dc_grouped"
   ]
  },
  {
   "cell_type": "code",
   "execution_count": null,
   "id": "850ad498",
   "metadata": {},
   "outputs": [],
   "source": [
    "#creating a line graph with purple color and dot marking\n",
    "plt.plot(df_dc_grouped['Year'], df_dc_grouped['Value'], marker = 'o', color = 'purple')\n",
    "\n",
    "# Adding labels and title\n",
    "plt.xlabel('Year')\n",
    "plt.ylabel('Mortality Rate')\n",
    "plt.title('Prostate Cancer Mortality Rate in District of Columbia Over Years(male)')\n",
    "\n",
    "# Display the plot\n",
    "plt.show()"
   ]
  },
  {
   "cell_type": "code",
   "execution_count": null,
   "id": "4f1f0193",
   "metadata": {},
   "outputs": [],
   "source": [
    "#creating a data frame for Maine\n",
    "df_maine = final_data[final_data['Location']=='Maine']\n",
    "#creating a dataframe with just years and average value combined\n",
    "df_maine_yearly = df_maine.groupby('Year')['Value'].sum()\n",
    "df_maine_grouped = df_maine_yearly.reset_index()\n",
    "df_maine_grouped"
   ]
  },
  {
   "cell_type": "code",
   "execution_count": null,
   "id": "3aadfa5a",
   "metadata": {},
   "outputs": [],
   "source": [
    "#creating a line graph with indigo color and dot marking\n",
    "plt.plot(df_maine_grouped['Year'], df_maine_grouped['Value'], marker = 'o', color = 'indigo')\n",
    "\n",
    "# Adding labels and title\n",
    "plt.xlabel('Year')\n",
    "plt.ylabel('Mortality Rate')\n",
    "plt.title('Prostate Cancer Mortality Rate in Maine Over Years(male)')\n",
    "\n",
    "# Display the plot\n",
    "plt.show()"
   ]
  },
  {
   "cell_type": "code",
   "execution_count": null,
   "id": "1db1acee",
   "metadata": {},
   "outputs": [],
   "source": []
  }
 ],
 "metadata": {
  "kernelspec": {
   "display_name": "Python 3 (ipykernel)",
   "language": "python",
   "name": "python3"
  },
  "language_info": {
   "codemirror_mode": {
    "name": "ipython",
    "version": 3
   },
   "file_extension": ".py",
   "mimetype": "text/x-python",
   "name": "python",
   "nbconvert_exporter": "python",
   "pygments_lexer": "ipython3",
   "version": "3.9.13"
  }
 },
 "nbformat": 4,
 "nbformat_minor": 5
}
